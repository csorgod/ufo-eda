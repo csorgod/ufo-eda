{
 "metadata": {
  "language_info": {
   "codemirror_mode": {
    "name": "ipython",
    "version": 3
   },
   "file_extension": ".py",
   "mimetype": "text/x-python",
   "name": "python",
   "nbconvert_exporter": "python",
   "pygments_lexer": "ipython3",
   "version": "3.7.4-final"
  },
  "orig_nbformat": 2,
  "kernelspec": {
   "name": "python3",
   "display_name": "Python 3"
  }
 },
 "nbformat": 4,
 "nbformat_minor": 2,
 "cells": [
  {
   "cell_type": "markdown",
   "metadata": {},
   "source": [
    "# UFO sighting EDA\n"
   ]
  },
  {
   "cell_type": "markdown",
   "metadata": {},
   "source": [
    "#### This EDA is using the database of registered sighting from National UFO Reporting Center (NUFORC). This dataset has more than 80,000 reports, and I will present some interesting information below."
   ]
  },
  {
   "cell_type": "markdown",
   "metadata": {},
   "source": [
    "### Some information about the dataset"
   ]
  },
  {
   "cell_type": "code",
   "execution_count": 123,
   "metadata": {
    "tags": []
   },
   "outputs": [],
   "source": [
    "#Setup\n",
    "import pandas as pd \n",
    "import matplotlib.pyplot as plt\n",
    "import folium\n",
    "\n",
    "df = pd.read_csv('dataset/scrubbed.csv', error_bad_lines = False)\n",
    "state_geo = 'us-states.json'"
   ]
  },
  {
   "cell_type": "code",
   "execution_count": 124,
   "metadata": {},
   "outputs": [],
   "source": [
    "#Renaming some columns\n",
    "df.rename(columns = {'duration (seconds)':'sec_duration'}, inplace = True)\n",
    "df.rename(columns = {'duration (hours/min)':'hrmin_duration'}, inplace = True)\n",
    "df.rename(columns = {'date posted':'date_posted'}, inplace = True)\n",
    "df.rename(columns = {'longitude ':'longitude'}, inplace = True)"
   ]
  },
  {
   "cell_type": "code",
   "execution_count": 125,
   "metadata": {},
   "outputs": [],
   "source": [
    "#Preparing data\n",
    "datetime = pd.to_datetime(df['datetime'], errors = 'coerce')\n",
    "duration = df['sec_duration'].map(lambda x: str(x).replace('`', ''))\n",
    "duration = pd.to_numeric(duration)"
   ]
  },
  {
   "cell_type": "code",
   "execution_count": 126,
   "metadata": {
    "tags": []
   },
   "outputs": [],
   "source": [
    "#creating new dataframe with just the necessary data\n",
    "dataset =  df[['city', 'state', 'country', 'latitude', 'longitude']]\n",
    "dataset.insert(0, 'datetime', datetime)\n",
    "dataset.insert(1, 'duration', duration)"
   ]
  },
  {
   "cell_type": "code",
   "execution_count": 127,
   "metadata": {},
   "outputs": [
    {
     "output_type": "execute_result",
     "data": {
      "text/plain": "             datetime  duration                  city state country  \\\n0 1949-10-10 20:30:00    2700.0            san marcos    tx      us   \n1 1949-10-10 21:00:00    7200.0          lackland afb    tx     NaN   \n2 1955-10-10 17:00:00      20.0  chester (uk/england)   NaN      gb   \n3 1956-10-10 21:00:00      20.0                  edna    tx      us   \n4 1960-10-10 20:00:00     900.0               kaneohe    hi      us   \n\n     latitude   longitude  \n0  29.8830556  -97.941111  \n1    29.38421  -98.581082  \n2        53.2   -2.916667  \n3  28.9783333  -96.645833  \n4  21.4180556 -157.803611  ",
      "text/html": "<div>\n<style scoped>\n    .dataframe tbody tr th:only-of-type {\n        vertical-align: middle;\n    }\n\n    .dataframe tbody tr th {\n        vertical-align: top;\n    }\n\n    .dataframe thead th {\n        text-align: right;\n    }\n</style>\n<table border=\"1\" class=\"dataframe\">\n  <thead>\n    <tr style=\"text-align: right;\">\n      <th></th>\n      <th>datetime</th>\n      <th>duration</th>\n      <th>city</th>\n      <th>state</th>\n      <th>country</th>\n      <th>latitude</th>\n      <th>longitude</th>\n    </tr>\n  </thead>\n  <tbody>\n    <tr>\n      <td>0</td>\n      <td>1949-10-10 20:30:00</td>\n      <td>2700.0</td>\n      <td>san marcos</td>\n      <td>tx</td>\n      <td>us</td>\n      <td>29.8830556</td>\n      <td>-97.941111</td>\n    </tr>\n    <tr>\n      <td>1</td>\n      <td>1949-10-10 21:00:00</td>\n      <td>7200.0</td>\n      <td>lackland afb</td>\n      <td>tx</td>\n      <td>NaN</td>\n      <td>29.38421</td>\n      <td>-98.581082</td>\n    </tr>\n    <tr>\n      <td>2</td>\n      <td>1955-10-10 17:00:00</td>\n      <td>20.0</td>\n      <td>chester (uk/england)</td>\n      <td>NaN</td>\n      <td>gb</td>\n      <td>53.2</td>\n      <td>-2.916667</td>\n    </tr>\n    <tr>\n      <td>3</td>\n      <td>1956-10-10 21:00:00</td>\n      <td>20.0</td>\n      <td>edna</td>\n      <td>tx</td>\n      <td>us</td>\n      <td>28.9783333</td>\n      <td>-96.645833</td>\n    </tr>\n    <tr>\n      <td>4</td>\n      <td>1960-10-10 20:00:00</td>\n      <td>900.0</td>\n      <td>kaneohe</td>\n      <td>hi</td>\n      <td>us</td>\n      <td>21.4180556</td>\n      <td>-157.803611</td>\n    </tr>\n  </tbody>\n</table>\n</div>"
     },
     "metadata": {},
     "execution_count": 127
    }
   ],
   "source": [
    "dataset.head(5)"
   ]
  },
  {
   "cell_type": "code",
   "execution_count": 128,
   "metadata": {},
   "outputs": [
    {
     "output_type": "execute_result",
     "data": {
      "text/plain": "                 datetime  duration       city state country latitude  \\\n80327 2013-09-09 21:15:00     600.0  nashville    tn      us  36.1658   \n80328 2013-09-09 22:00:00    1200.0      boise    id      us  43.6136   \n80329 2013-09-09 22:00:00    1200.0       napa    ca      us  38.2972   \n80330 2013-09-09 22:20:00       5.0     vienna    va      us  38.9011   \n80331 2013-09-09 23:00:00    1020.0     edmond    ok      us  35.6528   \n\n        longitude  \n80327  -86.784444  \n80328 -116.202500  \n80329 -122.284444  \n80330  -77.265556  \n80331  -97.477778  ",
      "text/html": "<div>\n<style scoped>\n    .dataframe tbody tr th:only-of-type {\n        vertical-align: middle;\n    }\n\n    .dataframe tbody tr th {\n        vertical-align: top;\n    }\n\n    .dataframe thead th {\n        text-align: right;\n    }\n</style>\n<table border=\"1\" class=\"dataframe\">\n  <thead>\n    <tr style=\"text-align: right;\">\n      <th></th>\n      <th>datetime</th>\n      <th>duration</th>\n      <th>city</th>\n      <th>state</th>\n      <th>country</th>\n      <th>latitude</th>\n      <th>longitude</th>\n    </tr>\n  </thead>\n  <tbody>\n    <tr>\n      <td>80327</td>\n      <td>2013-09-09 21:15:00</td>\n      <td>600.0</td>\n      <td>nashville</td>\n      <td>tn</td>\n      <td>us</td>\n      <td>36.1658</td>\n      <td>-86.784444</td>\n    </tr>\n    <tr>\n      <td>80328</td>\n      <td>2013-09-09 22:00:00</td>\n      <td>1200.0</td>\n      <td>boise</td>\n      <td>id</td>\n      <td>us</td>\n      <td>43.6136</td>\n      <td>-116.202500</td>\n    </tr>\n    <tr>\n      <td>80329</td>\n      <td>2013-09-09 22:00:00</td>\n      <td>1200.0</td>\n      <td>napa</td>\n      <td>ca</td>\n      <td>us</td>\n      <td>38.2972</td>\n      <td>-122.284444</td>\n    </tr>\n    <tr>\n      <td>80330</td>\n      <td>2013-09-09 22:20:00</td>\n      <td>5.0</td>\n      <td>vienna</td>\n      <td>va</td>\n      <td>us</td>\n      <td>38.9011</td>\n      <td>-77.265556</td>\n    </tr>\n    <tr>\n      <td>80331</td>\n      <td>2013-09-09 23:00:00</td>\n      <td>1020.0</td>\n      <td>edmond</td>\n      <td>ok</td>\n      <td>us</td>\n      <td>35.6528</td>\n      <td>-97.477778</td>\n    </tr>\n  </tbody>\n</table>\n</div>"
     },
     "metadata": {},
     "execution_count": 128
    }
   ],
   "source": [
    "dataset.tail(5)"
   ]
  },
  {
   "cell_type": "code",
   "execution_count": 129,
   "metadata": {
    "tags": []
   },
   "outputs": [
    {
     "output_type": "stream",
     "name": "stdout",
     "text": "<class 'pandas.core.frame.DataFrame'>\nRangeIndex: 80332 entries, 0 to 80331\nData columns (total 7 columns):\ndatetime     79638 non-null datetime64[ns]\nduration     80332 non-null float64\ncity         80332 non-null object\nstate        74535 non-null object\ncountry      70662 non-null object\nlatitude     80332 non-null object\nlongitude    80332 non-null float64\ndtypes: datetime64[ns](1), float64(2), object(4)\nmemory usage: 4.3+ MB\n"
    }
   ],
   "source": [
    "dataset.info()"
   ]
  },
  {
   "cell_type": "code",
   "execution_count": 130,
   "metadata": {},
   "outputs": [
    {
     "output_type": "execute_result",
     "data": {
      "text/plain": "datetime     datetime64[ns]\nduration            float64\ncity                 object\nstate                object\ncountry              object\nlatitude             object\nlongitude           float64\ndtype: object"
     },
     "metadata": {},
     "execution_count": 130
    }
   ],
   "source": [
    "dataset.dtypes"
   ]
  },
  {
   "cell_type": "code",
   "execution_count": 131,
   "metadata": {},
   "outputs": [
    {
     "output_type": "execute_result",
     "data": {
      "text/plain": "(80332, 7)"
     },
     "metadata": {},
     "execution_count": 131
    }
   ],
   "source": [
    "dataset.shape"
   ]
  },
  {
   "cell_type": "code",
   "execution_count": 132,
   "metadata": {
    "tags": []
   },
   "outputs": [
    {
     "output_type": "execute_result",
     "data": {
      "text/plain": "datetime      True\nduration     False\ncity         False\nstate         True\ncountry       True\nlatitude     False\nlongitude    False\ndtype: bool"
     },
     "metadata": {},
     "execution_count": 132
    }
   ],
   "source": [
    "#Does any column have missing data?\n",
    "pd.isnull(dataset).any()"
   ]
  },
  {
   "cell_type": "code",
   "execution_count": 133,
   "metadata": {
    "tags": []
   },
   "outputs": [
    {
     "output_type": "stream",
     "name": "stdout",
     "text": "duration     9016.889016\nlongitude     -86.772885\ndtype: float64 \n\nduration     180.000000\nlongitude    -87.903611\ndtype: float64 \n\n   duration   longitude\n0     300.0 -122.330833 \n\n"
    }
   ],
   "source": [
    "#central tendency measures\n",
    "print(dataset.mean(numeric_only = True), '\\n')\n",
    "print(dataset.median(numeric_only = True), '\\n')\n",
    "print(dataset.mode(numeric_only = True), '\\n')"
   ]
  },
  {
   "cell_type": "code",
   "execution_count": 134,
   "metadata": {
    "tags": []
   },
   "outputs": [
    {
     "output_type": "execute_result",
     "data": {
      "text/plain": "  Countries  Count  Percentage\n4        us  65114       81.06\n1        ca   3000        3.73\n3        gb   1905        2.37\n0        au    538        0.67\n2        de    105        0.13",
      "text/html": "<div>\n<style scoped>\n    .dataframe tbody tr th:only-of-type {\n        vertical-align: middle;\n    }\n\n    .dataframe tbody tr th {\n        vertical-align: top;\n    }\n\n    .dataframe thead th {\n        text-align: right;\n    }\n</style>\n<table border=\"1\" class=\"dataframe\">\n  <thead>\n    <tr style=\"text-align: right;\">\n      <th></th>\n      <th>Countries</th>\n      <th>Count</th>\n      <th>Percentage</th>\n    </tr>\n  </thead>\n  <tbody>\n    <tr>\n      <td>4</td>\n      <td>us</td>\n      <td>65114</td>\n      <td>81.06</td>\n    </tr>\n    <tr>\n      <td>1</td>\n      <td>ca</td>\n      <td>3000</td>\n      <td>3.73</td>\n    </tr>\n    <tr>\n      <td>3</td>\n      <td>gb</td>\n      <td>1905</td>\n      <td>2.37</td>\n    </tr>\n    <tr>\n      <td>0</td>\n      <td>au</td>\n      <td>538</td>\n      <td>0.67</td>\n    </tr>\n    <tr>\n      <td>2</td>\n      <td>de</td>\n      <td>105</td>\n      <td>0.13</td>\n    </tr>\n  </tbody>\n</table>\n</div>"
     },
     "metadata": {},
     "execution_count": 134
    }
   ],
   "source": [
    "#Analysing data amount per country\n",
    "countr_per_country = dataset.groupby([\"country\"]).size()\n",
    "percentage_per_country = countr_per_country.apply(lambda x: round((100 * x / float(dataset.shape[0])), 2))\n",
    "\n",
    "data = {'Countries': countr_per_country.index, \n",
    "        'Count': countr_per_country.values, \n",
    "        'Percentage': percentage_per_country.values}\n",
    "amount_dataframe = pd.DataFrame(data = data, columns = ['Countries', 'Count', 'Percentage'])\n",
    "amount_dataframe.sort_values(['Percentage'], ascending = False)"
   ]
  },
  {
   "source": [
    "More than 80% of the data is related to the USA, like is shown above. For this reason, we will use just this slice of data."
   ],
   "cell_type": "markdown",
   "metadata": {}
  },
  {
   "cell_type": "code",
   "execution_count": 144,
   "metadata": {},
   "outputs": [
    {
     "output_type": "execute_result",
     "data": {
      "text/plain": "             datetime  duration        city state country    latitude  \\\n0 1949-10-10 20:30:00    2700.0  san marcos    tx      us  29.8830556   \n3 1956-10-10 21:00:00      20.0        edna    tx      us  28.9783333   \n4 1960-10-10 20:00:00     900.0     kaneohe    hi      us  21.4180556   \n5 1961-10-10 19:00:00     300.0     bristol    tn      us  36.5950000   \n7 1965-10-10 23:45:00    1200.0     norwalk    ct      us  41.1175000   \n\n    longitude  \n0  -97.941111  \n3  -96.645833  \n4 -157.803611  \n5  -82.188889  \n7  -73.408333  ",
      "text/html": "<div>\n<style scoped>\n    .dataframe tbody tr th:only-of-type {\n        vertical-align: middle;\n    }\n\n    .dataframe tbody tr th {\n        vertical-align: top;\n    }\n\n    .dataframe thead th {\n        text-align: right;\n    }\n</style>\n<table border=\"1\" class=\"dataframe\">\n  <thead>\n    <tr style=\"text-align: right;\">\n      <th></th>\n      <th>datetime</th>\n      <th>duration</th>\n      <th>city</th>\n      <th>state</th>\n      <th>country</th>\n      <th>latitude</th>\n      <th>longitude</th>\n    </tr>\n  </thead>\n  <tbody>\n    <tr>\n      <td>0</td>\n      <td>1949-10-10 20:30:00</td>\n      <td>2700.0</td>\n      <td>san marcos</td>\n      <td>tx</td>\n      <td>us</td>\n      <td>29.8830556</td>\n      <td>-97.941111</td>\n    </tr>\n    <tr>\n      <td>3</td>\n      <td>1956-10-10 21:00:00</td>\n      <td>20.0</td>\n      <td>edna</td>\n      <td>tx</td>\n      <td>us</td>\n      <td>28.9783333</td>\n      <td>-96.645833</td>\n    </tr>\n    <tr>\n      <td>4</td>\n      <td>1960-10-10 20:00:00</td>\n      <td>900.0</td>\n      <td>kaneohe</td>\n      <td>hi</td>\n      <td>us</td>\n      <td>21.4180556</td>\n      <td>-157.803611</td>\n    </tr>\n    <tr>\n      <td>5</td>\n      <td>1961-10-10 19:00:00</td>\n      <td>300.0</td>\n      <td>bristol</td>\n      <td>tn</td>\n      <td>us</td>\n      <td>36.5950000</td>\n      <td>-82.188889</td>\n    </tr>\n    <tr>\n      <td>7</td>\n      <td>1965-10-10 23:45:00</td>\n      <td>1200.0</td>\n      <td>norwalk</td>\n      <td>ct</td>\n      <td>us</td>\n      <td>41.1175000</td>\n      <td>-73.408333</td>\n    </tr>\n  </tbody>\n</table>\n</div>"
     },
     "metadata": {},
     "execution_count": 144
    }
   ],
   "source": [
    "dataset = dataset[dataset[\"country\"] == 'us']\n",
    "dataset.head()"
   ]
  },
  {
   "cell_type": "code",
   "execution_count": null,
   "metadata": {
    "tags": []
   },
   "outputs": [],
   "source": [
    "map = folium.Map(location = [37, -102], zoom_start = 3)\n",
    "\n",
    "folium.Choropleth(\n",
    "    geo_data = state_geo,\n",
    "    name = 'choropleth',\n",
    "    data = dataset,\n",
    "    columns = ['state', 'duration'],\n",
    "    key_on = 'feature.id',\n",
    "    fill_color = 'YlGn',\n",
    "    fill_opacity = 0.7,\n",
    "    line_opacity = 0.2,\n",
    "    legend_name = 'UFO sighting '\n",
    ").add_to(map)\n",
    "\n",
    "map"
   ]
  },
  {
   "cell_type": "code",
   "execution_count": null,
   "metadata": {},
   "outputs": [],
   "source": []
  }
 ]
}